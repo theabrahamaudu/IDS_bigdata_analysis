{
 "cells": [
  {
   "cell_type": "code",
   "execution_count": 7,
   "metadata": {},
   "outputs": [],
   "source": [
    "from pyspark.sql import SparkSession\n",
    "from pyspark.sql.functions import regexp_replace"
   ]
  },
  {
   "cell_type": "code",
   "execution_count": 2,
   "metadata": {},
   "outputs": [
    {
     "name": "stdout",
     "output_type": "stream",
     "text": [
      "24/08/30 22:00:38 WARN Utils: Your hostname, abraham resolves to a loopback address: 127.0.1.1; using 192.168.0.145 instead (on interface eno2)\n",
      "24/08/30 22:00:38 WARN Utils: Set SPARK_LOCAL_IP if you need to bind to another address\n"
     ]
    },
    {
     "name": "stderr",
     "output_type": "stream",
     "text": [
      "Setting default log level to \"WARN\".\n",
      "To adjust logging level use sc.setLogLevel(newLevel). For SparkR, use setLogLevel(newLevel).\n"
     ]
    },
    {
     "name": "stdout",
     "output_type": "stream",
     "text": [
      "24/08/30 22:00:48 WARN NativeCodeLoader: Unable to load native-hadoop library for your platform... using builtin-java classes where applicable\n",
      "24/08/30 22:00:48 WARN Utils: Service 'SparkUI' could not bind on port 4040. Attempting port 4041.\n"
     ]
    }
   ],
   "source": [
    "spark = SparkSession.builder\\\n",
    "\t.master(\"local[*]\").appName(\"IDS_Analysis\").getOrCreate()"
   ]
  },
  {
   "cell_type": "code",
   "execution_count": 3,
   "metadata": {},
   "outputs": [
    {
     "name": "stderr",
     "output_type": "stream",
     "text": [
      "                                                                                \r"
     ]
    }
   ],
   "source": [
    "file_path = \"/user/ids_analysis/UNSW-NB15.csv\"\n",
    "data = spark.read.csv(file_path, inferSchema=True)\n",
    "data = data.toDF(\n",
    "    'srcip',\n",
    "    'sport',\n",
    "    'dstip',\n",
    "    'dsport',\n",
    "    'proto',\n",
    "    'state',\n",
    "    'dur',\n",
    "    'sbytes',\n",
    "    'dbytes',\n",
    "    'sttl',\n",
    "    'dttl',\n",
    "    'sloss',\n",
    "    'dloss',\n",
    "    'service',\n",
    "    'Sload',\n",
    "    'Dload',\n",
    "    'Spkts',\n",
    "    'Dpkts',\n",
    "    'swin',\n",
    "    'dwin',\n",
    "    'stcpb',\n",
    "    'dtcpb',\n",
    "    'smeansz',\n",
    "    'dmeansz',\n",
    "    'trans_depth',\n",
    "    'res_bdy_len',\n",
    "    'Sjit',\n",
    "    'Djit',\n",
    "    'Stime',\n",
    "    'Ltime',\n",
    "    'Sintpkt',\n",
    "    'Dintpkt',\n",
    "    'tcprtt',\n",
    "    'synack',\n",
    "    'ackdat',\n",
    "    'is_sm_ips_ports',\n",
    "    'ct_state_ttl',\n",
    "    'ct_flw_http_mthd',\n",
    "    'is_ftp_login',\n",
    "    'ct_ftp_cmd',\n",
    "    'ct_srv_src',\n",
    "    'ct_srv_dst',\n",
    "    'ct_dst_ltm',\n",
    "    'ct_src_ ltm',\n",
    "    'ct_src_dport_ltm',\n",
    "    'ct_dst_sport_ltm',\n",
    "    'ct_dst_src_ltm',\n",
    "    'attack_cat',\n",
    "    'Label'\n",
    ")"
   ]
  },
  {
   "cell_type": "code",
   "execution_count": 4,
   "metadata": {},
   "outputs": [
    {
     "name": "stderr",
     "output_type": "stream",
     "text": [
      "[Stage 2:=====================================================>   (15 + 1) / 16]\r"
     ]
    },
    {
     "name": "stdout",
     "output_type": "stream",
     "text": [
      "24/08/30 22:01:14 WARN package: Truncated the string representation of a plan since it was too large. This behavior can be adjusted by setting 'spark.sql.debug.maxToStringFields'.\n",
      "+-------+-----------+------------------+-----------+------------------+-------+-------+------------------+-----------------+------------------+-----------------+-----------------+------------------+------------------+-------+--------------------+-----------------+-----------------+------------------+------------------+------------------+--------------------+--------------------+------------------+------------------+-------------------+------------------+------------------+------------------+--------------------+--------------------+------------------+------------------+--------------------+--------------------+--------------------+--------------------+-------------------+-------------------+-------------------+--------------------+-----------------+-----------------+-----------------+-----------------+-----------------+-----------------+------------------+----------+-------------------+\n",
      "|summary|      srcip|             sport|      dstip|            dsport|  proto|  state|               dur|           sbytes|            dbytes|             sttl|             dttl|             sloss|             dloss|service|               Sload|            Dload|            Spkts|             Dpkts|              swin|              dwin|               stcpb|               dtcpb|           smeansz|           dmeansz|        trans_depth|       res_bdy_len|              Sjit|              Djit|               Stime|               Ltime|           Sintpkt|           Dintpkt|              tcprtt|              synack|              ackdat|     is_sm_ips_ports|       ct_state_ttl|   ct_flw_http_mthd|       is_ftp_login|          ct_ftp_cmd|       ct_srv_src|       ct_srv_dst|       ct_dst_ltm|      ct_src_ ltm| ct_src_dport_ltm| ct_dst_sport_ltm|    ct_dst_src_ltm|attack_cat|              Label|\n",
      "+-------+-----------+------------------+-----------+------------------+-------+-------+------------------+-----------------+------------------+-----------------+-----------------+------------------+------------------+-------+--------------------+-----------------+-----------------+------------------+------------------+------------------+--------------------+--------------------+------------------+------------------+-------------------+------------------+------------------+------------------+--------------------+--------------------+------------------+------------------+--------------------+--------------------+--------------------+--------------------+-------------------+-------------------+-------------------+--------------------+-----------------+-----------------+-----------------+-----------------+-----------------+-----------------+------------------+----------+-------------------+\n",
      "|  count|    2539739|           2539739|    2539739|           2539739|2539739|2539739|           2539739|          2539739|           2539739|          2539739|          2539739|           2539739|           2539739|2539739|             2539739|          2539739|          2539739|           2539739|           2539739|           2539739|             2539739|             2539739|           2539739|           2539739|            2539739|           2539739|           2539739|           2539739|             2539739|             2539739|           2539739|           2539739|             2539739|             2539739|             2539739|             2539739|            2539739|            2539739|            2539739|             2539739|          2539739|          2539739|          2539739|          2539739|          2539739|          2539739|           2539739|    321283|            2539739|\n",
      "|   mean|       null| 30536.93108583205|       null|11235.096788685767|   null|   null|0.6588634003798671|4340.072263330996| 36432.01132478574|62.78149802007214|  30.770440978384| 5.164547223159545|16.331423819534212|   null|3.6949279393635795E7|2451158.440857078| 33.2925678583508|42.731821655689814|150.10695075360107|149.76404347060858|1.2618542900429437E9|1.2619194806546414E9|124.25270588828222|276.70543193611627|0.08326328020320198| 4242.632264575218| 1589.154365010624|  730.164002677961|1.4232606949103932E9|1.4232606956744623E9|193.04655049246233| 78.83432357574321|0.006181224255109669|0.003287993858562...|0.002893230395436...|0.001651744529654425|0.26118471228736495|0.11009123378425893|0.01735335796316078|0.020560380417042855|9.207911915358231|8.989882818667587|6.439727074317479|6.901640286659378|4.642571933572702|3.593031803661715|  6.84655746121944|      null| 0.1265023689442104|\n",
      "| stddev|       null|20441.216792342184|       null| 18438.20083577155|   null|   null|13.925767633289526|56409.39812286229|161105.30400824704|74.62669956848524|42.85192218951881|22.518368387797135| 56.59789035320479|   null|1.1860413786386485E8|4225032.897503516|76.28775585678291|121.50842004704258|125.47913122211038|  125.540621926085|1.4220450578238628E9|1.4221574697898877E9|151.92108772283441|  335.623165013593|0.35002455674771144|47503.383153168244|16911.377637309928|3438.7574708801617|  1134456.4636757085|  1134456.2648338126|2778.5830034350715|1433.2780715493307|0.046161382852648175|  0.0259372454393289|0.023948109198588897| 0.04060808932896449| 0.6831310323762803| 0.5564518805021011| 0.1334651041761791| 0.18437304311644664|10.83708094877098|10.82281346616335|  8.1623299252091|8.205340175616458| 8.47800112329229|6.174757636883347|11.258797786324482|      null|0.33241474561750256|\n",
      "|    min|10.40.170.2|                 0|10.40.170.2|                 0|    3pc|    ACC|               0.0|                0|                 0|                0|                0|                 0|                 0|      -|                 0.0|              0.0|                0|                 0|                 0|                 0|                   0|                   0|                 0|                 0|                  0|                 0|               0.0|               0.0|          1421927377|          1421927414|               0.0|               0.0|                 0.0|                 0.0|                 0.0|                   0|                  0|                  0|                  0|                   0|                1|                1|                1|                1|                1|                1|                 1|  Analysis|                  0|\n",
      "|    max| 59.166.0.9|             65535| 59.166.0.9|             65535|   zero|     no|         8786.6377|         14355774|          14657531|              255|              254|              5319|              5507|    ssl|         5.9880003E9|       1.287619E8|            10646|             11018|               255|               255|          4294958913|          4294953724|              1504|              1500|                172|           6558056|         1483830.9|         781221.13|          1424262068|          1424262069|         84371.492|          59485.32|           10.037506|           4.5252719|           5.5122342|                   1|                  6|                 36|                  4|                   8|               67|               67|               67|               67|               67|               60|                67|     Worms|                  1|\n",
      "+-------+-----------+------------------+-----------+------------------+-------+-------+------------------+-----------------+------------------+-----------------+-----------------+------------------+------------------+-------+--------------------+-----------------+-----------------+------------------+------------------+------------------+--------------------+--------------------+------------------+------------------+-------------------+------------------+------------------+------------------+--------------------+--------------------+------------------+------------------+--------------------+--------------------+--------------------+--------------------+-------------------+-------------------+-------------------+--------------------+-----------------+-----------------+-----------------+-----------------+-----------------+-----------------+------------------+----------+-------------------+\n",
      "\n"
     ]
    },
    {
     "name": "stderr",
     "output_type": "stream",
     "text": [
      "                                                                                \r"
     ]
    }
   ],
   "source": [
    "## data description\n",
    "data.describe().show()"
   ]
  },
  {
   "cell_type": "code",
   "execution_count": 9,
   "metadata": {},
   "outputs": [],
   "source": [
    "attack_cats = data.select('attack_cat').distinct().collect()"
   ]
  },
  {
   "cell_type": "code",
   "execution_count": 14,
   "metadata": {},
   "outputs": [
    {
     "data": {
      "text/plain": [
       "[Row(attack_cat='Worms'),\n",
       " Row(attack_cat=None),\n",
       " Row(attack_cat='Analysis'),\n",
       " Row(attack_cat='Shellcode '),\n",
       " Row(attack_cat='DoS'),\n",
       " Row(attack_cat='Reconnaissance '),\n",
       " Row(attack_cat='Backdoor'),\n",
       " Row(attack_cat='Fuzzers '),\n",
       " Row(attack_cat='Exploits'),\n",
       " Row(attack_cat='Generic'),\n",
       " Row(attack_cat='Shellcode'),\n",
       " Row(attack_cat='Backdoors'),\n",
       " Row(attack_cat='Fuzzers'),\n",
       " Row(attack_cat='Reconnaissance')]"
      ]
     },
     "execution_count": 14,
     "metadata": {},
     "output_type": "execute_result"
    }
   ],
   "source": [
    "attack_cats"
   ]
  },
  {
   "cell_type": "code",
   "execution_count": 26,
   "metadata": {},
   "outputs": [
    {
     "name": "stdout",
     "output_type": "stream",
     "text": [
      "Shellcode \n",
      "Reconnaissance \n",
      "Fuzzers \n"
     ]
    }
   ],
   "source": [
    "# rename duplicate attack categories\n",
    "for i in range(len(attack_cats)-1):\n",
    "    if \" \" in str(attack_cats[i][0]):\n",
    "        print(attack_cats[i][0])\n"
   ]
  },
  {
   "cell_type": "code",
   "execution_count": 24,
   "metadata": {},
   "outputs": [
    {
     "data": {
      "text/plain": [
       "range(0, 13)"
      ]
     },
     "execution_count": 24,
     "metadata": {},
     "output_type": "execute_result"
    }
   ],
   "source": [
    "range(len(attack_cats)-1)"
   ]
  },
  {
   "cell_type": "code",
   "execution_count": 27,
   "metadata": {},
   "outputs": [],
   "source": [
    "clean_data = data.withColumn(\"attack_cat\", regexp_replace(\"attack_cat\", \"Shellcode \", \"Shellcode\"))\n",
    "clean_data = clean_data.withColumn(\"attack_cat\", regexp_replace(\"attack_cat\", \"Reconnaissance \", \"Reconnaissance\"))\n",
    "clean_data = clean_data.withColumn(\"attack_cat\", regexp_replace(\"attack_cat\", \"Fuzzers \", \"Fuzzers\"))\n"
   ]
  },
  {
   "cell_type": "code",
   "execution_count": 28,
   "metadata": {},
   "outputs": [
    {
     "name": "stderr",
     "output_type": "stream",
     "text": [
      "                                                                                \r"
     ]
    }
   ],
   "source": [
    "clean_attack_cats = clean_data.select('attack_cat').distinct().collect()"
   ]
  },
  {
   "cell_type": "code",
   "execution_count": 29,
   "metadata": {},
   "outputs": [
    {
     "data": {
      "text/plain": [
       "11"
      ]
     },
     "execution_count": 29,
     "metadata": {},
     "output_type": "execute_result"
    }
   ],
   "source": [
    "len(clean_attack_cats)"
   ]
  },
  {
   "cell_type": "code",
   "execution_count": 30,
   "metadata": {},
   "outputs": [
    {
     "data": {
      "text/plain": [
       "[Row(attack_cat='Worms'),\n",
       " Row(attack_cat='Shellcode'),\n",
       " Row(attack_cat=None),\n",
       " Row(attack_cat='Fuzzers'),\n",
       " Row(attack_cat='Analysis'),\n",
       " Row(attack_cat='DoS'),\n",
       " Row(attack_cat='Reconnaissance'),\n",
       " Row(attack_cat='Backdoor'),\n",
       " Row(attack_cat='Exploits'),\n",
       " Row(attack_cat='Generic'),\n",
       " Row(attack_cat='Backdoors')]"
      ]
     },
     "execution_count": 30,
     "metadata": {},
     "output_type": "execute_result"
    }
   ],
   "source": [
    "clean_attack_cats"
   ]
  },
  {
   "cell_type": "code",
   "execution_count": 32,
   "metadata": {},
   "outputs": [
    {
     "name": "stderr",
     "output_type": "stream",
     "text": [
      "                                                                                \r"
     ]
    }
   ],
   "source": [
    "# save cleaned data\n",
    "clean_data.write.csv(\"/user/ids_analysis/cleaned_data.csv\")"
   ]
  },
  {
   "cell_type": "code",
   "execution_count": null,
   "metadata": {},
   "outputs": [],
   "source": []
  }
 ],
 "metadata": {
  "kernelspec": {
   "display_name": ".venv",
   "language": "python",
   "name": "python3"
  },
  "language_info": {
   "codemirror_mode": {
    "name": "ipython",
    "version": 3
   },
   "file_extension": ".py",
   "mimetype": "text/x-python",
   "name": "python",
   "nbconvert_exporter": "python",
   "pygments_lexer": "ipython3",
   "version": "3.11.9"
  }
 },
 "nbformat": 4,
 "nbformat_minor": 2
}
